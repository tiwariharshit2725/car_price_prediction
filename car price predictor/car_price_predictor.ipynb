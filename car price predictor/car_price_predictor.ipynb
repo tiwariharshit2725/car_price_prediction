{
 "cells": [
  {
   "cell_type": "code",
   "execution_count": 1,
   "metadata": {},
   "outputs": [],
   "source": [
    "import numpy as np\n",
    "import pandas as pd\n",
    "import matplotlib.pyplot as plt"
   ]
  },
  {
   "cell_type": "code",
   "execution_count": 2,
   "metadata": {},
   "outputs": [],
   "source": [
    "df = pd.read_csv('audi.csv')\n",
    "X = df.iloc[:,[0,1,3,4,5,6,7,8]].values\n",
    "Y = df.iloc[:,[2]].values"
   ]
  },
  {
   "cell_type": "code",
   "execution_count": 3,
   "metadata": {},
   "outputs": [
    {
     "name": "stdout",
     "output_type": "stream",
     "text": [
      "[[' A1' 2017 'Manual' ... 150 55.4 1.4]\n",
      " [' A6' 2016 'Automatic' ... 20 64.2 2.0]\n",
      " [' A1' 2016 'Manual' ... 30 55.4 1.4]\n",
      " ...\n",
      " [' A3' 2020 'Manual' ... 150 49.6 1.0]\n",
      " [' Q3' 2017 'Automatic' ... 150 47.9 1.4]\n",
      " [' Q3' 2016 'Manual' ... 150 47.9 1.4]]\n"
     ]
    }
   ],
   "source": [
    "print(X)"
   ]
  },
  {
   "cell_type": "code",
   "execution_count": 4,
   "metadata": {},
   "outputs": [
    {
     "name": "stdout",
     "output_type": "stream",
     "text": [
      "[[12500]\n",
      " [16500]\n",
      " [11000]\n",
      " ...\n",
      " [17199]\n",
      " [19499]\n",
      " [15999]]\n"
     ]
    }
   ],
   "source": [
    "print(Y)"
   ]
  },
  {
   "cell_type": "code",
   "execution_count": 5,
   "metadata": {},
   "outputs": [],
   "source": [
    "from sklearn.preprocessing import LabelEncoder\n",
    "le1 = LabelEncoder()\n",
    "X[:,0] = le1.fit_transform(X[:,0])\n",
    "le2 = LabelEncoder()\n",
    "X[:,-4] = le2.fit_transform(X[:,-4])"
   ]
  },
  {
   "cell_type": "code",
   "execution_count": 6,
   "metadata": {},
   "outputs": [],
   "source": [
    "from sklearn.preprocessing import OneHotEncoder\n",
    "from sklearn.compose import ColumnTransformer\n",
    "ct = ColumnTransformer(transformers = [('encoder',OneHotEncoder(),[2])],remainder='passthrough')\n",
    "X = ct.fit_transform(X)"
   ]
  },
  {
   "cell_type": "code",
   "execution_count": 7,
   "metadata": {},
   "outputs": [
    {
     "name": "stdout",
     "output_type": "stream",
     "text": [
      "[[0.0 1.0 0.0 ... 150 55.4 1.4]\n",
      " [1.0 0.0 0.0 ... 20 64.2 2.0]\n",
      " [0.0 1.0 0.0 ... 30 55.4 1.4]\n",
      " ...\n",
      " [0.0 1.0 0.0 ... 150 49.6 1.0]\n",
      " [1.0 0.0 0.0 ... 150 47.9 1.4]\n",
      " [0.0 1.0 0.0 ... 150 47.9 1.4]]\n"
     ]
    }
   ],
   "source": [
    "print(X)"
   ]
  },
  {
   "cell_type": "code",
   "execution_count": 8,
   "metadata": {},
   "outputs": [],
   "source": [
    "from sklearn.preprocessing import StandardScaler\n",
    "sc = StandardScaler()\n",
    "X = sc.fit_transform(X)"
   ]
  },
  {
   "cell_type": "code",
   "execution_count": 9,
   "metadata": {},
   "outputs": [
    {
     "name": "stdout",
     "output_type": "stream",
     "text": [
      "[[-0.58326752  1.2007284  -0.71233307 ...  0.35714729  0.35755001\n",
      "  -0.88021837]\n",
      " [ 1.71447913 -0.83282781 -0.71233307 ... -1.57832278  1.03713001\n",
      "   0.11492465]\n",
      " [-0.58326752  1.2007284  -0.71233307 ... -1.42944047  0.35755001\n",
      "  -0.88021837]\n",
      " ...\n",
      " [-0.58326752  1.2007284  -0.71233307 ...  0.35714729 -0.09035499\n",
      "  -1.54364705]\n",
      " [ 1.71447913 -0.83282781 -0.71233307 ...  0.35714729 -0.22163749\n",
      "  -0.88021837]\n",
      " [-0.58326752  1.2007284  -0.71233307 ...  0.35714729 -0.22163749\n",
      "  -0.88021837]]\n"
     ]
    }
   ],
   "source": [
    "print(X)"
   ]
  },
  {
   "cell_type": "code",
   "execution_count": 10,
   "metadata": {},
   "outputs": [],
   "source": [
    "from sklearn.model_selection import train_test_split\n",
    "(X_train,X_test,Y_train,Y_test) = train_test_split(X,Y,test_size=0.2,random_state=0)"
   ]
  },
  {
   "cell_type": "code",
   "execution_count": 11,
   "metadata": {},
   "outputs": [
    {
     "name": "stderr",
     "output_type": "stream",
     "text": [
      "<ipython-input-11-c092edf9b8ff>:3: DataConversionWarning: A column-vector y was passed when a 1d array was expected. Please change the shape of y to (n_samples,), for example using ravel().\n",
      "  regression.fit(X_train,Y_train)\n"
     ]
    },
    {
     "data": {
      "text/plain": [
       "RandomForestRegressor(random_state=0)"
      ]
     },
     "execution_count": 11,
     "metadata": {},
     "output_type": "execute_result"
    }
   ],
   "source": [
    "from sklearn.ensemble import RandomForestRegressor\n",
    "regression = RandomForestRegressor(random_state=0)\n",
    "regression.fit(X_train,Y_train)"
   ]
  },
  {
   "cell_type": "code",
   "execution_count": 12,
   "metadata": {},
   "outputs": [],
   "source": [
    "y_pred = regression.predict(X_test)"
   ]
  },
  {
   "cell_type": "code",
   "execution_count": 13,
   "metadata": {},
   "outputs": [
    {
     "name": "stdout",
     "output_type": "stream",
     "text": [
      "[[14337.15 14998.  ]\n",
      " [23450.35 21950.  ]\n",
      " [27330.07 28990.  ]\n",
      " ...\n",
      " [46275.18 45995.  ]\n",
      " [31359.   30500.  ]\n",
      " [ 9929.62  8400.  ]]\n"
     ]
    }
   ],
   "source": [
    "print(np.concatenate((y_pred.reshape(len(y_pred),1),Y_test.reshape(len(Y_test),1)),1))"
   ]
  },
  {
   "cell_type": "code",
   "execution_count": 14,
   "metadata": {},
   "outputs": [
    {
     "data": {
      "text/plain": [
       "0.9536134841307546"
      ]
     },
     "execution_count": 14,
     "metadata": {},
     "output_type": "execute_result"
    }
   ],
   "source": [
    "from sklearn.metrics import r2_score,mean_absolute_error\n",
    "r2_score(Y_test, y_pred)"
   ]
  },
  {
   "cell_type": "code",
   "execution_count": 15,
   "metadata": {},
   "outputs": [
    {
     "data": {
      "text/plain": [
       "1538.730980670462"
      ]
     },
     "execution_count": 15,
     "metadata": {},
     "output_type": "execute_result"
    }
   ],
   "source": [
    "mean_absolute_error(Y_test,y_pred)"
   ]
  },
  {
   "cell_type": "code",
   "execution_count": 16,
   "metadata": {},
   "outputs": [
    {
     "name": "stdout",
     "output_type": "stream",
     "text": [
      "[14337.15 23450.35 27330.07 ... 46275.18 31359.    9929.62]\n"
     ]
    }
   ],
   "source": [
    "print(y_pred)"
   ]
  },
  {
   "cell_type": "code",
   "execution_count": 17,
   "metadata": {},
   "outputs": [
    {
     "name": "stdout",
     "output_type": "stream",
     "text": [
      "[[14998]\n",
      " [21950]\n",
      " [28990]\n",
      " ...\n",
      " [45995]\n",
      " [30500]\n",
      " [ 8400]]\n"
     ]
    }
   ],
   "source": [
    "print(Y_test)"
   ]
  },
  {
   "cell_type": "code",
   "execution_count": 18,
   "metadata": {},
   "outputs": [],
   "source": [
    "y_pred = np.reshape(y_pred,(-1,1))"
   ]
  },
  {
   "cell_type": "code",
   "execution_count": 19,
   "metadata": {},
   "outputs": [],
   "source": [
    "mydata = np.concatenate((Y_test,y_pred),axis=1)\n",
    "dataframe = pd.DataFrame(mydata,columns=['Real Price','Predicted Price'])"
   ]
  },
  {
   "cell_type": "code",
   "execution_count": 20,
   "metadata": {},
   "outputs": [
    {
     "name": "stdout",
     "output_type": "stream",
     "text": [
      "      Real Price  Predicted Price\n",
      "0        14998.0         14337.15\n",
      "1        21950.0         23450.35\n",
      "2        28990.0         27330.07\n",
      "3        25489.0         27200.98\n",
      "4        30950.0         32250.05\n",
      "...          ...              ...\n",
      "2129     23700.0         39147.77\n",
      "2130     18000.0         16679.95\n",
      "2131     45995.0         46275.18\n",
      "2132     30500.0         31359.00\n",
      "2133      8400.0          9929.62\n",
      "\n",
      "[2134 rows x 2 columns]\n"
     ]
    }
   ],
   "source": [
    "print(dataframe)"
   ]
  }
 ],
 "metadata": {
  "kernelspec": {
   "display_name": "Python 3",
   "language": "python",
   "name": "python3"
  },
  "language_info": {
   "codemirror_mode": {
    "name": "ipython",
    "version": 3
   },
   "file_extension": ".py",
   "mimetype": "text/x-python",
   "name": "python",
   "nbconvert_exporter": "python",
   "pygments_lexer": "ipython3",
   "version": "3.8.5"
  }
 },
 "nbformat": 4,
 "nbformat_minor": 4
}
